# Trees 

bone_density <- read.csv('https://raw.githubusercontent.com/gitcnk/Data/master/Stat254/bone_mineral_density.csv')

#install.packages('rpart', 'visNetwork', 'sparkline')

library(dplyr)
library(ggplot2)
library(rpart)
library(visNetwork)


mytree <- rpart(bmd ~ age + sex + fracture,
                data = bone_density)

mytree %>%
  visTree()
